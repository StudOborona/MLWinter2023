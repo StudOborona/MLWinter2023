{
 "cells": [
  {
   "cell_type": "code",
   "execution_count": 17,
   "outputs": [],
   "source": [
    "import random\n",
    "import re\n",
    "import typing as t\n",
    "from collections import defaultdict\n",
    "from pathlib import Path\n",
    "\n",
    "import matplotlib.animation as animation\n",
    "import matplotlib.pyplot as plt\n",
    "import nltk\n",
    "import pandas as pd\n",
    "import seaborn as sns\n",
    "import torch\n",
    "import torch.nn as nn\n",
    "import torch.optim as optim\n",
    "from nltk.corpus import wordnet, stopwords\n",
    "from sklearn import metrics\n",
    "from sklearn.model_selection import train_test_split\n",
    "from sklearn.preprocessing import LabelEncoder\n",
    "from torch.utils.data import Dataset, DataLoader\n",
    "from tqdm import tqdm"
   ],
   "metadata": {
    "collapsed": false
   }
  },
  {
   "cell_type": "code",
   "execution_count": 18,
   "outputs": [],
   "source": [
    "# @formatter:off\n",
    "%matplotlib inline\n",
    "# @formatter:on"
   ],
   "metadata": {
    "collapsed": false
   }
  },
  {
   "cell_type": "code",
   "execution_count": 19,
   "outputs": [
    {
     "name": "stderr",
     "output_type": "stream",
     "text": [
      "[nltk_data] Downloading package punkt to\n",
      "[nltk_data]     C:\\Users\\super\\AppData\\Roaming\\nltk_data...\n",
      "[nltk_data]   Package punkt is already up-to-date!\n",
      "[nltk_data] Downloading package stopwords to\n",
      "[nltk_data]     C:\\Users\\super\\AppData\\Roaming\\nltk_data...\n",
      "[nltk_data]   Package stopwords is already up-to-date!\n",
      "[nltk_data] Downloading package wordnet to\n",
      "[nltk_data]     C:\\Users\\super\\AppData\\Roaming\\nltk_data...\n",
      "[nltk_data]   Package wordnet is already up-to-date!\n",
      "[nltk_data] Downloading package omw-1.4 to\n",
      "[nltk_data]     C:\\Users\\super\\AppData\\Roaming\\nltk_data...\n",
      "[nltk_data]   Package omw-1.4 is already up-to-date!\n",
      "[nltk_data] Downloading package averaged_perceptron_tagger to\n",
      "[nltk_data]     C:\\Users\\super\\AppData\\Roaming\\nltk_data...\n",
      "[nltk_data]   Package averaged_perceptron_tagger is already up-to-\n",
      "[nltk_data]       date!\n"
     ]
    },
    {
     "data": {
      "text/plain": "True"
     },
     "execution_count": 19,
     "metadata": {},
     "output_type": "execute_result"
    }
   ],
   "source": [
    "nltk.download('punkt')\n",
    "nltk.download('stopwords')\n",
    "nltk.download('wordnet')\n",
    "nltk.download('omw-1.4')\n",
    "nltk.download('averaged_perceptron_tagger')"
   ],
   "metadata": {
    "collapsed": false
   }
  },
  {
   "cell_type": "code",
   "execution_count": 20,
   "outputs": [],
   "source": [
    "torch.set_warn_always(True)\n",
    "\n",
    "sns.set_theme()\n",
    "plt.rcParams[\"figure.figsize\"] = (8, 4)"
   ],
   "metadata": {
    "collapsed": false
   }
  },
  {
   "cell_type": "code",
   "execution_count": 21,
   "outputs": [
    {
     "name": "stdout",
     "output_type": "stream",
     "text": [
      "Using CUDA device\n"
     ]
    }
   ],
   "source": [
    "DATA_DIR = Path(\"../data/\")\n",
    "\n",
    "CUDA = \"cuda\"\n",
    "CPU = \"cpu\"\n",
    "DEVICE = CUDA if torch.cuda.is_available() else CPU\n",
    "print(f\"Using {DEVICE.upper()} device\")"
   ],
   "metadata": {
    "collapsed": false
   }
  },
  {
   "cell_type": "markdown",
   "source": [
    "# Билет 1"
   ],
   "metadata": {
    "collapsed": false
   }
  },
  {
   "cell_type": "markdown",
   "source": [
    "## Задание 2\n",
    "\n",
    "Реализовав рекуррентную нейронную сеть при помощи библиотеки PyTorch, решите задачу классификации текстов. Разделите набор данных на обучающее и тестовое множество. Проверьте, является ли выборка сбалансированной. При проведении процедуры обучения на несбалансированной выборке задайте параметр weight при создании функции потерь. Отобразите графики значений функции потерь на обучающем множестве. Отобразите confusion matrix и classification report, рассчитанные на основе тестового множества.\n",
    "\n",
    "Датасет: data/nlp/activities.csv\n"
   ],
   "metadata": {
    "collapsed": false
   }
  },
  {
   "cell_type": "markdown",
   "source": [
    "## Предобработка данных и подготовка датасета"
   ],
   "metadata": {
    "collapsed": false
   }
  },
  {
   "cell_type": "code",
   "execution_count": 22,
   "outputs": [],
   "source": [
    "def get_pos(word: str) -> str:\n",
    "    tag = nltk.pos_tag([word])[0][1]\n",
    "    if tag.startswith(\"J\"):\n",
    "        return wordnet.ADJ\n",
    "    elif tag.startswith(\"V\"):\n",
    "        return wordnet.VERB\n",
    "    elif tag.startswith(\"R\"):\n",
    "        return wordnet.ADV\n",
    "    else:\n",
    "        return wordnet.NOUN\n",
    "\n",
    "\n",
    "_wordnet_lemmatizer = nltk.WordNetLemmatizer()\n",
    "\n",
    "\n",
    "def wordnet_lemmatizer(token: str) -> str:\n",
    "    return _wordnet_lemmatizer.lemmatize(token, pos=get_pos(token))\n",
    "\n",
    "\n",
    "PATTERN = re.compile(r\"[^a-z]\", flags=re.MULTILINE)\n",
    "STOPWORDS = set(stopwords.words(\"english\"))\n",
    "\n",
    "\n",
    "def preprocess_text(\n",
    "        text: str,\n",
    "        lemmatizer_or_stemmer: t.Callable[[str], str] = None,\n",
    "        min_word_len: int = 0,\n",
    ") -> str:\n",
    "    text = text.lower()\n",
    "    text = PATTERN.sub(\" \", text)\n",
    "\n",
    "    words = []\n",
    "    for word in nltk.word_tokenize(text):\n",
    "        if word not in STOPWORDS and len(word) >= min_word_len:\n",
    "            if not lemmatizer_or_stemmer:\n",
    "                words.append(word)\n",
    "                continue\n",
    "            word = lemmatizer_or_stemmer(word)\n",
    "            if word not in STOPWORDS and len(word) >= min_word_len:\n",
    "                words.append(word)\n",
    "\n",
    "    return \" \".join(words)"
   ],
   "metadata": {
    "collapsed": false
   }
  },
  {
   "cell_type": "code",
   "execution_count": 23,
   "outputs": [],
   "source": [
    "class ActivitiesVocab:\n",
    "    pad = \"<PAD>\"\n",
    "    unknown = \"<UNK>\"\n",
    "\n",
    "    def __init__(self, texts: t.List[str]):\n",
    "        uniques = set()\n",
    "        max_len = 0\n",
    "        for text in texts:\n",
    "            words = nltk.word_tokenize(text)\n",
    "            uniques.update(words)\n",
    "            max_len = max(len(words), max_len)\n",
    "\n",
    "        self.alphabet = [self.pad, self.unknown, *uniques]\n",
    "        self.max_len = max_len\n",
    "\n",
    "        w2i = {w: i for i, w in enumerate(self.alphabet)}\n",
    "        unknown_idx = w2i[self.unknown]\n",
    "        self.w2i = defaultdict(lambda: unknown_idx, w2i)\n",
    "\n",
    "    def __len__(self):\n",
    "        return len(self.alphabet)\n",
    "\n",
    "    def encode(self, text: str) -> torch.Tensor:\n",
    "        indices = [self.w2i[w] for w in nltk.word_tokenize(text)]\n",
    "        indices += [self.w2i[self.pad]] * (self.max_len - len(indices))\n",
    "        return torch.tensor(indices, dtype=torch.long)\n",
    "\n",
    "    def decode(self, indices: torch.Tensor) -> str:\n",
    "        pad_indices = torch.nonzero(indices == self.w2i[self.pad], as_tuple=True)[0]  # noqa\n",
    "        if len(pad_indices):\n",
    "            indices = indices[:pad_indices[0]]\n",
    "        return \" \".join(self.alphabet[i] for i in indices)\n",
    "\n",
    "\n",
    "class ActivitiesDataset(Dataset):\n",
    "    df: pd.DataFrame\n",
    "    texts: t.List[str]\n",
    "\n",
    "    encoder: LabelEncoder\n",
    "    classes: t.List[str]\n",
    "\n",
    "    vocab: ActivitiesVocab\n",
    "    data: torch.Tensor\n",
    "    targets: torch.Tensor\n",
    "\n",
    "    def __init__(self, df: pd.DataFrame, vocab: ActivitiesVocab = None, encoder: LabelEncoder = None):\n",
    "        self.df = df\n",
    "\n",
    "        with tqdm(total=len(df)) as pbar:\n",
    "            self._pbar, self._i, self._n = pbar, 0, 100\n",
    "            self.texts = df[\"Text\"].apply(self.preprocess_text).tolist()\n",
    "        self.vocab = vocab or ActivitiesVocab(self.texts)\n",
    "\n",
    "        if encoder:\n",
    "            self.encoder = encoder\n",
    "            encode = self.encoder.transform\n",
    "        else:\n",
    "            self.encoder = LabelEncoder()\n",
    "            encode = self.encoder.fit_transform\n",
    "\n",
    "        self.data = torch.vstack([self.vocab.encode(text) for text in self.texts])\n",
    "        targets = encode(df[\"Review-Activity\"])\n",
    "        self.classes = self.encoder.classes_.tolist()\n",
    "        self.targets = torch.tensor(targets, dtype=torch.long)\n",
    "\n",
    "    def __len__(self):\n",
    "        return self.data.size(0)\n",
    "\n",
    "    def __getitem__(self, idx):\n",
    "        return self.data[idx], self.targets[idx]\n",
    "\n",
    "    def preprocess_text(self, text: str) -> str:\n",
    "        self._i += 1\n",
    "        if self._i % self._n == 0:\n",
    "            self._pbar.update(self._n)\n",
    "        return preprocess_text(text, lemmatizer_or_stemmer=wordnet_lemmatizer, min_word_len=3)"
   ],
   "metadata": {
    "collapsed": false
   }
  },
  {
   "cell_type": "code",
   "execution_count": 24,
   "outputs": [
    {
     "name": "stdout",
     "output_type": "stream",
     "text": [
      "ACTIVITY    5726\n",
      "REVIEW      4274\n",
      "Name: Review-Activity, dtype: int64\n"
     ]
    },
    {
     "data": {
      "text/plain": "<Figure size 300x250 with 1 Axes>",
      "image/png": "[encoded data removed]"
     },
     "metadata": {},
     "output_type": "display_data"
    }
   ],
   "source": [
    "activities_df = pd.read_csv(DATA_DIR / \"nlp/activities.csv\")\n",
    "vc = activities_df[\"Review-Activity\"].value_counts()\n",
    "print(vc)\n",
    "activities_df[\"Review-Activity\"].value_counts().plot.bar(rot=0, figsize=(3, 2.5));"
   ],
   "metadata": {
    "collapsed": false
   }
  },
  {
   "cell_type": "code",
   "execution_count": 25,
   "outputs": [
    {
     "name": "stderr",
     "output_type": "stream",
     "text": [
      "100%|██████████| 8000/8000 [01:45<00:00, 75.58it/s] \n",
      "100%|██████████| 2000/2000 [00:17<00:00, 112.05it/s]\n"
     ]
    },
    {
     "data": {
      "text/plain": "(8000, 2000)"
     },
     "execution_count": 25,
     "metadata": {},
     "output_type": "execute_result"
    }
   ],
   "source": [
    "train_df, test_df = train_test_split(activities_df, test_size=0.2, random_state=0)\n",
    "\n",
    "train_dataset = ActivitiesDataset(train_df)\n",
    "test_dataset = ActivitiesDataset(test_df, vocab=train_dataset.vocab, encoder=train_dataset.encoder)\n",
    "len(train_dataset), len(test_dataset)"
   ],
   "metadata": {
    "collapsed": false
   }
  },
  {
   "cell_type": "markdown",
   "source": [
    "## Построение и обучение модели"
   ],
   "metadata": {
    "collapsed": false
   }
  },
  {
   "cell_type": "code",
   "execution_count": 26,
   "outputs": [],
   "source": [
    "def get_weights(targets: torch.Tensor) -> torch.Tensor:\n",
    "    _, counts = targets.unique(return_counts=True)\n",
    "    return counts.max() / counts\n",
    "\n",
    "\n",
    "def common_train(\n",
    "        model: nn.Module,\n",
    "        loss_fn: nn.Module,\n",
    "        optimizer: optim.Optimizer,\n",
    "        epochs: int,\n",
    "        train_dataloader: DataLoader,\n",
    "        test_dataloader: DataLoader,\n",
    "        verbose: int = None,\n",
    "        device: str = CPU,\n",
    ") -> t.Tuple[t.List[float], t.List[float], t.List[float], t.List[float]]:\n",
    "    train_losses, train_accuracy_list = [], []\n",
    "    test_losses, test_accuracy_list = [], []\n",
    "    for epoch in range(epochs):\n",
    "        print(f\"Epoch {epoch + 1}\\n\" + \"-\" * 32)\n",
    "\n",
    "        train_loss, train_accuracy = train_loop(train_dataloader, model, loss_fn, optimizer, verbose, device)\n",
    "        print(f\"Train Error: loss: {train_loss:.6f}, accuracy: {train_accuracy:.4f}\")\n",
    "        train_losses.append(train_loss)\n",
    "        train_accuracy_list.append(train_accuracy)\n",
    "\n",
    "        test_loss, test_accuracy = test_loop(test_dataloader, model, loss_fn, device)\n",
    "        print(f\" Test Error: loss: {test_loss:.6f}, accuracy: {test_accuracy:.4f}\\n\")\n",
    "        test_losses.append(test_loss)\n",
    "        test_accuracy_list.append(test_accuracy)\n",
    "\n",
    "        torch.cuda.empty_cache()\n",
    "    return train_losses, train_accuracy_list, test_losses, test_accuracy_list\n",
    "\n",
    "\n",
    "def train_loop(\n",
    "        dataloader: DataLoader,\n",
    "        model: nn.Module,\n",
    "        loss_fn: nn.Module,\n",
    "        optimizer: optim.Optimizer,\n",
    "        verbose: int = None,\n",
    "        device: str = CPU,\n",
    ") -> t.Tuple[float, float]:\n",
    "    model.train()\n",
    "\n",
    "    size = len(dataloader.dataset)  # noqa\n",
    "    num_batches = len(dataloader)\n",
    "    avg_loss, avg_accuracy = 0, 0\n",
    "\n",
    "    for batch, (x, y) in enumerate(dataloader):\n",
    "        x, y = x.to(device), y.to(device)\n",
    "\n",
    "        pred = model(x)\n",
    "        loss = loss_fn(pred, y)\n",
    "\n",
    "        optimizer.zero_grad()\n",
    "        loss.backward()\n",
    "        optimizer.step()\n",
    "\n",
    "        y_true = torch.flatten(y).detach().cpu()\n",
    "        y_pred = torch.flatten(pred.argmax(1)).detach().cpu()\n",
    "        accuracy = metrics.accuracy_score(y_true, y_pred)\n",
    "\n",
    "        avg_loss += loss\n",
    "        avg_accuracy += accuracy\n",
    "        if verbose and batch % verbose == 0:\n",
    "            print(f\"[{batch * len(x):>4d}/{size:>4d}]: loss: {loss:.6f}, accuracy: {accuracy:.4f}\")\n",
    "\n",
    "        del x, y, pred, loss\n",
    "        torch.cuda.empty_cache()\n",
    "\n",
    "    return (avg_loss / num_batches).item(), avg_accuracy / num_batches\n",
    "\n",
    "\n",
    "@torch.no_grad()\n",
    "def test_loop(\n",
    "        dataloader: DataLoader,\n",
    "        model: nn.Module,\n",
    "        loss_fn: nn.Module,\n",
    "        device: str = CPU,\n",
    ") -> t.Tuple[float, float]:\n",
    "    model.eval()\n",
    "    y_true, y_pred = get_y_true_y_pred(model, dataloader, device)\n",
    "    return loss_fn(y_pred, y_true).item(), metrics.accuracy_score(y_true.cpu(), y_pred.argmax(1).cpu())\n",
    "\n",
    "\n",
    "@torch.no_grad()\n",
    "def get_y_true_y_pred(\n",
    "        model: nn.Module,\n",
    "        dataloader: DataLoader,\n",
    "        device: str = CPU,\n",
    ") -> t.Tuple[torch.Tensor, torch.Tensor]:\n",
    "    model.eval()\n",
    "\n",
    "    y_test = []\n",
    "    y_pred = []\n",
    "    for x, y in dataloader:\n",
    "        x, y = x.to(device), y.to(device)\n",
    "        pred = model(x)\n",
    "        y_test.append(y)\n",
    "        y_pred.append(pred)\n",
    "\n",
    "        del x\n",
    "        torch.cuda.empty_cache()\n",
    "\n",
    "    return torch.flatten(torch.vstack(y_test)), torch.vstack(y_pred)\n",
    "\n",
    "\n",
    "def plot_train_test(\n",
    "        train_losses: t.List[float],\n",
    "        train_accuracy: t.List[float],\n",
    "        test_losses: t.List[float],\n",
    "        test_accuracy: t.List[float],\n",
    ") -> None:\n",
    "    fig, axes = plt.subplots(2, 1, figsize=(6, 7))\n",
    "    epochs = torch.arange(len(train_losses))\n",
    "\n",
    "    axes[0].plot(epochs, train_losses)\n",
    "    axes[0].plot(epochs, test_losses)\n",
    "    axes[0].set_ylabel(\"loss\")\n",
    "    axes[0].legend([\"train\", \"test\"])\n",
    "\n",
    "    axes[1].plot(epochs, train_accuracy)\n",
    "    axes[1].plot(epochs, test_accuracy)\n",
    "    axes[1].set_xlabel(\"epoch\")\n",
    "    axes[1].set_ylabel(\"accuracy\")"
   ],
   "metadata": {
    "collapsed": false
   }
  },
  {
   "cell_type": "code",
   "execution_count": 27,
   "outputs": [],
   "source": [
    "class ActivitiesRNNClassifier(nn.Module):\n",
    "    _STATE_T = t.Union[t.Optional[torch.Tensor], t.Optional[t.Tuple[torch.Tensor, torch.Tensor]]]\n",
    "    rnn_state: _STATE_T\n",
    "\n",
    "    def __init__(\n",
    "            self,\n",
    "            num_embeddings: int,\n",
    "            embedding_dim: int,\n",
    "            rnn_hidden_size: int,\n",
    "            vector_size: int,\n",
    "            num_classes: int,\n",
    "    ):\n",
    "        super().__init__()\n",
    "        self.embedding = nn.Embedding(num_embeddings=num_embeddings, embedding_dim=embedding_dim, padding_idx=0)\n",
    "        self.rnn = nn.RNN(input_size=embedding_dim, hidden_size=rnn_hidden_size, batch_first=True)\n",
    "        self.classifier = nn.Sequential(\n",
    "            nn.Linear(rnn_hidden_size * vector_size, 128),\n",
    "            nn.ReLU(),\n",
    "            nn.Dropout(),\n",
    "            nn.Linear(128, num_classes),\n",
    "        )\n",
    "        self.reset_rnn_state()\n",
    "\n",
    "    def forward(self, x: torch.Tensor) -> torch.Tensor:\n",
    "        x = self.embedding(x)\n",
    "\n",
    "        x, rnn_state = self.rnn(x, self.rnn_state)\n",
    "        self.keep_rnn_state(rnn_state)\n",
    "\n",
    "        x = torch.flatten(x, 1)\n",
    "        return self.classifier(x)\n",
    "\n",
    "    def reset_rnn_state(self):\n",
    "        self.rnn_state = None\n",
    "\n",
    "    def keep_rnn_state(self, state: _STATE_T):\n",
    "        if isinstance(self.rnn, nn.LSTM):\n",
    "            self.rnn_state = (state[0].detach(), state[1].detach())\n",
    "        else:\n",
    "            self.rnn_state = state.detach()\n",
    "\n",
    "    def train(self, mode: bool = True):\n",
    "        self.reset_rnn_state()\n",
    "        return super().train(mode)"
   ],
   "metadata": {
    "collapsed": false
   }
  },
  {
   "cell_type": "code",
   "execution_count": 28,
   "outputs": [
    {
     "data": {
      "text/plain": "ActivitiesRNNClassifier(\n  (embedding): Embedding(15375, 64, padding_idx=0)\n  (rnn): RNN(64, 64, batch_first=True)\n  (classifier): Sequential(\n    (0): Linear(in_features=5568, out_features=128, bias=True)\n    (1): ReLU()\n    (2): Dropout(p=0.5, inplace=False)\n    (3): Linear(in_features=128, out_features=2, bias=True)\n  )\n)"
     },
     "execution_count": 28,
     "metadata": {},
     "output_type": "execute_result"
    }
   ],
   "source": [
    "torch.manual_seed(0)\n",
    "\n",
    "net = ActivitiesRNNClassifier(\n",
    "    num_embeddings=len(train_dataset.vocab),\n",
    "    embedding_dim=64,\n",
    "    rnn_hidden_size=64,\n",
    "    vector_size=train_dataset.vocab.max_len,\n",
    "    num_classes=len(train_dataset.classes),\n",
    ").to(DEVICE)\n",
    "loss_fn = nn.CrossEntropyLoss(weight=get_weights(train_dataset.targets).to(DEVICE))\n",
    "optimizer = optim.Adam(net.parameters(), lr=0.001)\n",
    "\n",
    "train_dataloader = DataLoader(train_dataset, batch_size=128, shuffle=True, drop_last=True)\n",
    "test_dataloader = DataLoader(test_dataset, batch_size=512, drop_last=True)\n",
    "\n",
    "net"
   ],
   "metadata": {
    "collapsed": false
   }
  },
  {
   "cell_type": "code",
   "execution_count": 29,
   "outputs": [
    {
     "name": "stdout",
     "output_type": "stream",
     "text": [
      "Epoch 1\n",
      "--------------------------------\n",
      "[   0/8000]: loss: 0.725673, accuracy: 0.3750\n",
      "[6400/8000]: loss: 0.086828, accuracy: 0.9688\n",
      "Train Error: loss: 0.232751, accuracy: 0.8994\n",
      " Test Error: loss: 0.065193, accuracy: 0.9779\n",
      "\n",
      "Epoch 2\n",
      "--------------------------------\n",
      "[   0/8000]: loss: 0.062779, accuracy: 0.9766\n",
      "[6400/8000]: loss: 0.029917, accuracy: 0.9922\n",
      "Train Error: loss: 0.056119, accuracy: 0.9837\n",
      " Test Error: loss: 0.045878, accuracy: 0.9831\n",
      "\n",
      "Epoch 3\n",
      "--------------------------------\n",
      "[   0/8000]: loss: 0.052501, accuracy: 0.9844\n",
      "[6400/8000]: loss: 0.095803, accuracy: 0.9844\n",
      "Train Error: loss: 0.034151, accuracy: 0.9899\n",
      " Test Error: loss: 0.038196, accuracy: 0.9870\n",
      "\n",
      "Epoch 4\n",
      "--------------------------------\n",
      "[   0/8000]: loss: 0.011414, accuracy: 1.0000\n",
      "[6400/8000]: loss: 0.056609, accuracy: 0.9922\n",
      "Train Error: loss: 0.018040, accuracy: 0.9942\n",
      " Test Error: loss: 0.044486, accuracy: 0.9818\n",
      "\n",
      "Epoch 5\n",
      "--------------------------------\n",
      "[   0/8000]: loss: 0.059028, accuracy: 0.9766\n",
      "[6400/8000]: loss: 0.019381, accuracy: 0.9922\n",
      "Train Error: loss: 0.013488, accuracy: 0.9955\n",
      " Test Error: loss: 0.038478, accuracy: 0.9876\n",
      "\n",
      "Epoch 6\n",
      "--------------------------------\n",
      "[   0/8000]: loss: 0.014317, accuracy: 0.9922\n",
      "[6400/8000]: loss: 0.000969, accuracy: 1.0000\n",
      "Train Error: loss: 0.006152, accuracy: 0.9981\n",
      " Test Error: loss: 0.035185, accuracy: 0.9870\n",
      "\n",
      "Epoch 7\n",
      "--------------------------------\n",
      "[   0/8000]: loss: 0.014480, accuracy: 0.9922\n",
      "[6400/8000]: loss: 0.001107, accuracy: 1.0000\n",
      "Train Error: loss: 0.004788, accuracy: 0.9989\n",
      " Test Error: loss: 0.067245, accuracy: 0.9811\n",
      "\n",
      "Epoch 8\n",
      "--------------------------------\n",
      "[   0/8000]: loss: 0.021382, accuracy: 0.9922\n",
      "[6400/8000]: loss: 0.022921, accuracy: 0.9844\n",
      "Train Error: loss: 0.008217, accuracy: 0.9974\n",
      " Test Error: loss: 0.030111, accuracy: 0.9902\n",
      "\n",
      "Epoch 9\n",
      "--------------------------------\n",
      "[   0/8000]: loss: 0.013459, accuracy: 0.9844\n",
      "[6400/8000]: loss: 0.001420, accuracy: 1.0000\n",
      "Train Error: loss: 0.002784, accuracy: 0.9990\n",
      " Test Error: loss: 0.040599, accuracy: 0.9902\n",
      "\n",
      "Epoch 10\n",
      "--------------------------------\n",
      "[   0/8000]: loss: 0.000077, accuracy: 1.0000\n",
      "[6400/8000]: loss: 0.000014, accuracy: 1.0000\n",
      "Train Error: loss: 0.000416, accuracy: 1.0000\n",
      " Test Error: loss: 0.036785, accuracy: 0.9915\n",
      "\n",
      "CPU times: total: 6.73 s\n",
      "Wall time: 6.99 s\n"
     ]
    }
   ],
   "source": [
    "%%time\n",
    "\n",
    "train_losses, train_accuracy, test_losses, test_accuracy = common_train(\n",
    "    epochs=10,\n",
    "    model=net,\n",
    "    loss_fn=loss_fn,\n",
    "    optimizer=optimizer,\n",
    "    train_dataloader=train_dataloader,\n",
    "    test_dataloader=test_dataloader,\n",
    "    verbose=50,\n",
    "    device=DEVICE,\n",
    ")"
   ],
   "metadata": {
    "collapsed": false
   }
  },
  {
   "cell_type": "markdown",
   "source": [
    "## Оценка и выводы"
   ],
   "metadata": {
    "collapsed": false
   }
  },
  {
   "cell_type": "code",
   "execution_count": 30,
   "outputs": [
    {
     "data": {
      "text/plain": "<Figure size 600x700 with 2 Axes>",
      "image/png": "[encoded data removed]"
     },
     "metadata": {},
     "output_type": "display_data"
    }
   ],
   "source": [
    "plot_train_test(train_losses, train_accuracy, test_losses, test_accuracy)"
   ],
   "metadata": {
    "collapsed": false
   }
  },
  {
   "cell_type": "code",
   "execution_count": 31,
   "outputs": [],
   "source": [
    "y_true, y_pred = get_y_true_y_pred(net, test_dataloader, DEVICE)\n",
    "y_true, y_pred = y_true.cpu(), y_pred.argmax(1).cpu()"
   ],
   "metadata": {
    "collapsed": false
   }
  },
  {
   "cell_type": "code",
   "execution_count": 32,
   "outputs": [
    {
     "data": {
      "text/plain": "<Figure size 350x350 with 1 Axes>",
      "image/png": "[encoded data removed]"
     },
     "metadata": {},
     "output_type": "display_data"
    }
   ],
   "source": [
    "cm_display = metrics.ConfusionMatrixDisplay.from_predictions(\n",
    "    y_true,\n",
    "    y_pred,\n",
    "    display_labels=train_dataset.classes,\n",
    "    colorbar=False,\n",
    "    xticks_rotation=0,\n",
    "    cmap=sns.color_palette('light:b', as_cmap=True)\n",
    ")\n",
    "cm_display.ax_.grid(False)\n",
    "cm_display.figure_.set_size_inches(3.5, 3.5)"
   ],
   "metadata": {
    "collapsed": false
   }
  },
  {
   "cell_type": "code",
   "execution_count": 33,
   "outputs": [
    {
     "name": "stdout",
     "output_type": "stream",
     "text": [
      "              precision    recall  f1-score   support\n",
      "\n",
      "    ACTIVITY       0.99      0.99      0.99       855\n",
      "      REVIEW       0.99      0.99      0.99       681\n",
      "\n",
      "    accuracy                           0.99      1536\n",
      "   macro avg       0.99      0.99      0.99      1536\n",
      "weighted avg       0.99      0.99      0.99      1536\n",
      "\n"
     ]
    }
   ],
   "source": [
    "print(metrics.classification_report(y_true, y_pred, target_names=train_dataset.classes, zero_division=True))"
   ],
   "metadata": {
    "collapsed": false
   }
  },
  {
   "cell_type": "code",
   "execution_count": 34,
   "outputs": [
    {
     "name": "stdout",
     "output_type": "stream",
     "text": [
      "Input:   hunt hunt hunt\n",
      "Target:  ACTIVITY\n",
      "Predict: ACTIVITY (1.00), REVIEW (0.00)\n",
      "\n",
      "Input:   fall cleaning snow cooler weather\n",
      "Target:  ACTIVITY\n",
      "Predict: ACTIVITY (1.00), REVIEW (0.00)\n",
      "\n",
      "Input:   football halloween brithday\n",
      "Target:  ACTIVITY\n",
      "Predict: ACTIVITY (1.00), REVIEW (0.00)\n",
      "\n",
      "Input:   rake leaf sip hot coco thanksgiving\n",
      "Target:  ACTIVITY\n",
      "Predict: ACTIVITY (1.00), REVIEW (0.00)\n",
      "\n",
      "Input:   drink warm beverage stay inside christmas time\n",
      "Target:  ACTIVITY\n",
      "Predict: ACTIVITY (1.00), REVIEW (0.00)\n",
      "\n"
     ]
    }
   ],
   "source": [
    "net.eval()\n",
    "for i in torch.randperm(len(test_dataset))[:5]:\n",
    "    x, y = test_dataset[i]\n",
    "    x, y = x.to(DEVICE), y.to(DEVICE)\n",
    "    pred = net(x.unsqueeze(0))\n",
    "\n",
    "    pred_proba, pred_label_indices = torch.softmax(pred, 1).topk(min(len(test_dataset.classes), 3), dim=1)\n",
    "    pred_labels = test_dataset.encoder.inverse_transform(pred_label_indices.squeeze().cpu())\n",
    "    predicts = \", \".join([f\"{label} ({prob:.2f})\" for (label, prob) in zip(pred_labels, pred_proba.squeeze())])\n",
    "\n",
    "    text = test_dataset.texts[i]\n",
    "    text = text if len(text) < 80 else text[:80] + \"...\"\n",
    "    target = test_dataset.encoder.inverse_transform([y.cpu()])[0]\n",
    "\n",
    "    print(f\"Input:   {text}\")\n",
    "    print(f\"Target:  {target}\")\n",
    "    print(f\"Predict: {predicts}\\n\")"
   ],
   "metadata": {
    "collapsed": false
   }
  },
  {
   "cell_type": "markdown",
   "source": [
    "## Задание 3\n",
    "\n",
    "При помощи возможностей по автоматическому дифференцированию, которые предоставляет библиотека PyTorch, найдите минимум функции $ y=x^3-x+2 $ на отрезке \\[-10, 10]. Реализуйте процесс поиска экстремума таким образом, чтобы при нахождении точки экстремума процедура поиска останавливалась.  Продемонстрируйте процесс оптимизации. Изобразите график функции y(x) на заданном отрезке."
   ],
   "metadata": {
    "collapsed": false
   }
  },
  {
   "cell_type": "code",
   "execution_count": 46,
   "outputs": [],
   "source": [
    "plt.rcParams[\"figure.figsize\"] = (3.5, 2.5)"
   ],
   "metadata": {
    "collapsed": false
   }
  },
  {
   "cell_type": "code",
   "execution_count": 47,
   "outputs": [
    {
     "data": {
      "text/plain": "<Figure size 350x250 with 1 Axes>",
      "image/png": "[encoded data removed]"
     },
     "metadata": {},
     "output_type": "display_data"
    }
   ],
   "source": [
    "def f(x: torch.Tensor) -> torch.Tensor:\n",
    "    return x ** 3 - x + 2\n",
    "\n",
    "\n",
    "SIGN = -1  # 1 - max, -1 - min\n",
    "\n",
    "START, END = -10, 10\n",
    "EPS = 0.000001\n",
    "LR = 0.001\n",
    "\n",
    "X = torch.arange(START, END + 0.001, 0.001)\n",
    "Y = f(X)\n",
    "plt.plot(X.detach(), Y.detach());"
   ],
   "metadata": {
    "collapsed": false
   }
  },
  {
   "cell_type": "code",
   "execution_count": 48,
   "outputs": [],
   "source": [
    "SignT = t.Literal[-1, 1]  # 1 - max, -1 - min\n",
    "FuncT = t.Callable[[torch.Tensor], torch.Tensor]\n",
    "\n",
    "\n",
    "def sign_func(func: FuncT, sign: SignT) -> FuncT:\n",
    "    return lambda x: -sign * func(x)\n",
    "\n",
    "\n",
    "def save_animation(xs: list[torch.Tensor], path: str, limit: int = 500, delay: int = 30) -> None:\n",
    "    xs_ = xs.copy()\n",
    "    delayed = xs_[-1]\n",
    "    if len(xs_) > limit:\n",
    "        xs_ = xs_[::len(xs_) // limit]\n",
    "    for i in range(delay):\n",
    "        xs_.append(delayed)\n",
    "\n",
    "    with tqdm(total=len(xs_) + 1) as pbar:\n",
    "        def animate(i):\n",
    "            scatter.set_data(xs_[i].detach(), f(xs_[i]).detach())\n",
    "            pbar.update()\n",
    "\n",
    "        fig, ax = plt.subplots(1, 1)\n",
    "        ax.plot(X.detach(), Y.detach())\n",
    "        scatter, = ax.plot([], [], marker=\"o\", color=\"r\")\n",
    "        anim = animation.FuncAnimation(fig, animate, interval=1, frames=len(xs_))\n",
    "        anim.save(path, writer=\"pillow\", fps=20)\n",
    "        plt.close()\n",
    "\n",
    "\n",
    "def answer(x: torch.Tensor, sign: SignT, reason: str) -> None:\n",
    "    extrema = \"минимум\" if sign == -1 else \"максимум\"\n",
    "    if torch.isnan(x):\n",
    "        print(f\"Локальный {extrema} не найден\")\n",
    "    else:\n",
    "        x, y = x.item(), f(x).item()\n",
    "        print(f\"Найден локальный {extrema}: {x=:5f}, f(x)={y:5f}\")\n",
    "        plt.plot(X.detach(), Y.detach())\n",
    "        plt.scatter(x, y, color=\"r\")\n",
    "    print(f\"Причина остановки: {reason}\")\n",
    "\n",
    "\n",
    "def gradient_descent(\n",
    "        func: FuncT,\n",
    "        interval: t.Tuple[float, float],\n",
    "        sign: SignT,\n",
    "        eps: float,\n",
    "        lr: float,\n",
    "        initial_state: float = None,\n",
    ") -> tuple[torch.Tensor, list[torch.Tensor], str]:\n",
    "    \"\"\"Градиентный спуск\"\"\"\n",
    "    sign_f = sign_func(func, sign)\n",
    "    start, end = interval\n",
    "    if initial_state is None:\n",
    "        initial_state = random.uniform(start, end)\n",
    "    elif initial_state < start or initial_state > end:\n",
    "        return torch.tensor(torch.nan), [torch.tensor(torch.nan)], \"initial_state вне интервала\"\n",
    "\n",
    "    interval_eps = lr * (end - start)  # наивное расширение границ интервала\n",
    "    adj_start, adj_end = start - interval_eps, end + interval_eps\n",
    "\n",
    "    x = torch.tensor(initial_state, dtype=torch.float, requires_grad=True)\n",
    "    if torch.isnan(sign_f(x)):\n",
    "        return torch.tensor(torch.nan), [torch.tensor(torch.nan)], f\"f(initial_state={initial_state:.4f}) не определена\"\n",
    "\n",
    "    i, n = 0, 1000\n",
    "    with tqdm() as pbar:\n",
    "        xs = []\n",
    "        while True:\n",
    "            xs.append(x.detach().clone())  # выполнится минимум 2 раза\n",
    "\n",
    "            if x < adj_start or x > adj_end:  # вышли за границу дальше дозволенного\n",
    "                # искомый экстремум - предыдущая позиция или одна из границ\n",
    "                start_t, end_t = torch.tensor(start), torch.tensor(end)\n",
    "                if start <= xs[-2] <= end:\n",
    "                    _, x = min((sign_f(xs[-2]), xs[-2]), (sign_f(start_t), start_t), (sign_f(end_t), end_t))\n",
    "                else:\n",
    "                    _, x = min((sign_f(start_t), start_t), (sign_f(end_t), end_t))\n",
    "                xs.append(x.detach().clone())\n",
    "                return xs[-1], xs, \"выход за границы интервала\"\n",
    "\n",
    "            y = sign_f(x)\n",
    "            if torch.isnan(y):\n",
    "                xs.pop()\n",
    "                return xs[-1], xs, f\"функция для следующего x={x.item():.4f} не определена\"\n",
    "\n",
    "            # а эти 3 строчки про \"возможности по автоматическому дифференцированию, которые предоставляет PyTorch\"\n",
    "            y.backward()\n",
    "            grad = x.grad.clone()\n",
    "            x.grad.zero_()\n",
    "\n",
    "            with torch.no_grad():\n",
    "                x -= lr * grad  # ладно, это 4-ая\n",
    "                if torch.abs(x - xs[-1]) <= eps:  # найден экстремум с необходимой точностью\n",
    "                    xs.append(x.detach().clone())\n",
    "                    return xs[-1], xs, \"найден экстремум\"\n",
    "\n",
    "            if i % n == 0:\n",
    "                pbar.update(n)\n",
    "            i += 1"
   ],
   "metadata": {
    "collapsed": false
   }
  },
  {
   "cell_type": "code",
   "execution_count": 49,
   "outputs": [
    {
     "name": "stderr",
     "output_type": "stream",
     "text": [
      "3000it [00:00, 5840.76it/s]\n"
     ]
    },
    {
     "name": "stdout",
     "output_type": "stream",
     "text": [
      "Найден локальный минимум: x=0.577632, f(x)=1.615100\n",
      "Причина остановки: найден экстремум\n"
     ]
    },
    {
     "data": {
      "text/plain": "<Figure size 350x250 with 1 Axes>",
      "image/png": "[encoded data removed]"
     },
     "metadata": {},
     "output_type": "display_data"
    }
   ],
   "source": [
    "x, xs, reason = gradient_descent(func=f, interval=(START, END), sign=SIGN, eps=EPS, lr=LR, initial_state=9.1)\n",
    "answer(x, SIGN, reason)"
   ],
   "metadata": {
    "collapsed": false
   }
  },
  {
   "cell_type": "code",
   "execution_count": 50,
   "outputs": [
    {
     "name": "stderr",
     "output_type": "stream",
     "text": [
      "100%|██████████| 621/621 [00:35<00:00, 17.48it/s]\n",
      "100%|██████████| 621/621 [00:39<00:00, 15.83it/s]\n"
     ]
    }
   ],
   "source": [
    "save_animation(xs, \"autograd_1.gif\")"
   ],
   "metadata": {
    "collapsed": false
   }
  },
  {
   "cell_type": "markdown",
   "source": [
    "![](autograd_1.gif)"
   ],
   "metadata": {
    "collapsed": false
   }
  },
  {
   "cell_type": "code",
   "execution_count": 51,
   "outputs": [
    {
     "name": "stderr",
     "output_type": "stream",
     "text": [
      "1000it [00:00, 138815.29it/s]\n"
     ]
    },
    {
     "name": "stdout",
     "output_type": "stream",
     "text": [
      "Найден локальный минимум: x=-10.000000, f(x)=-988.000000\n",
      "Причина остановки: выход за границы интервала\n"
     ]
    },
    {
     "data": {
      "text/plain": "<Figure size 350x250 with 1 Axes>",
      "image/png": "[encoded data removed]"
     },
     "metadata": {},
     "output_type": "display_data"
    }
   ],
   "source": [
    "x, xs, reason = gradient_descent(func=f, interval=(START, END), sign=SIGN, eps=EPS, lr=LR, initial_state=-6)\n",
    "answer(x, SIGN, reason)"
   ],
   "metadata": {
    "collapsed": false
   }
  },
  {
   "cell_type": "code",
   "execution_count": 52,
   "outputs": [
    {
     "name": "stderr",
     "output_type": "stream",
     "text": [
      "100%|██████████| 56/56 [00:03<00:00, 16.28it/s]\n"
     ]
    }
   ],
   "source": [
    "save_animation(xs, \"autograd_2.gif\")"
   ],
   "metadata": {
    "collapsed": false
   }
  },
  {
   "cell_type": "markdown",
   "source": [
    "![](autograd_2.gif)"
   ],
   "metadata": {
    "collapsed": false
   }
  }
 ],
 "metadata": {
  "kernelspec": {
   "display_name": "Python 3",
   "language": "python",
   "name": "python3"
  },
  "language_info": {
   "codemirror_mode": {
    "name": "ipython",
    "version": 2
   },
   "file_extension": ".py",
   "mimetype": "text/x-python",
   "name": "python",
   "nbconvert_exporter": "python",
   "pygments_lexer": "ipython2",
   "version": "2.7.6"
  }
 },
 "nbformat": 4,
 "nbformat_minor": 0
}
