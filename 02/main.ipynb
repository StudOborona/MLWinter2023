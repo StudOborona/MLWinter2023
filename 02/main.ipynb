{
 "cells": [
  {
   "cell_type": "markdown",
   "metadata": {
    "executionInfo": {
     "elapsed": 6571,
     "status": "ok",
     "timestamp": 1673208941237,
     "user": {
      "displayName": "Sergei Tkachev",
      "userId": "17392815108100424683"
     },
     "user_tz": -180
    },
    "id": "n1qr9f1SIv1q"
   },
   "source": [
    "# Билет 2"
   ]
  },
  {
   "cell_type": "code",
   "execution_count": 1,
   "metadata": {},
   "outputs": [],
   "source": [
    "import nltk\n",
    "from nltk.tokenize import word_tokenize, sent_tokenize\n",
    "from nltk.stem.snowball import SnowballStemmer\n",
    "from nltk import WordNetLemmatizer\n",
    "from nltk import sent_tokenize\n",
    "from nltk.corpus import stopwords\n",
    "import string\n",
    "import re\n",
    "from sklearn.feature_extraction.text import CountVectorizer\n",
    "import pandas as pd\n",
    "from sklearn.model_selection import train_test_split\n",
    "from torch.utils.data import Dataset\n",
    "import torch\n",
    "import matplotlib.pyplot as plt\n",
    "from sklearn import metrics\n",
    "import numpy as np\n",
    "import seaborn as sns\n",
    "import torch.nn as nn"
   ]
  },
  {
   "cell_type": "code",
   "execution_count": 2,
   "metadata": {
    "colab": {
     "base_uri": "https://localhost:8080/"
    },
    "executionInfo": {
     "elapsed": 959,
     "status": "ok",
     "timestamp": 1673208942192,
     "user": {
      "displayName": "Sergei Tkachev",
      "userId": "17392815108100424683"
     },
     "user_tz": -180
    },
    "id": "VwqSxdIUI0Db",
    "outputId": "bb18d542-34ef-454b-f488-4d2173f91a15"
   },
   "outputs": [
    {
     "name": "stderr",
     "output_type": "stream",
     "text": [
      "[nltk_data] Downloading package punkt to /Users/demg/nltk_data...\n",
      "[nltk_data]   Package punkt is already up-to-date!\n",
      "[nltk_data] Downloading package wordnet to /Users/demg/nltk_data...\n",
      "[nltk_data]   Package wordnet is already up-to-date!\n",
      "[nltk_data] Downloading package omw-1.4 to /Users/demg/nltk_data...\n",
      "[nltk_data]   Package omw-1.4 is already up-to-date!\n",
      "[nltk_data] Downloading package stopwords to /Users/demg/nltk_data...\n",
      "[nltk_data]   Package stopwords is already up-to-date!\n"
     ]
    },
    {
     "data": {
      "text/plain": [
       "True"
      ]
     },
     "execution_count": 2,
     "metadata": {},
     "output_type": "execute_result"
    }
   ],
   "source": [
    "# Установка корпусов для nltk\n",
    "nltk.download('punkt')\n",
    "nltk.download('wordnet')\n",
    "nltk.download('omw-1.4')\n",
    "nltk.download(\"stopwords\")"
   ]
  },
  {
   "cell_type": "code",
   "execution_count": 3,
   "metadata": {
    "colab": {
     "base_uri": "https://localhost:8080/"
    },
    "executionInfo": {
     "elapsed": 18405,
     "status": "ok",
     "timestamp": 1673208960594,
     "user": {
      "displayName": "Sergei Tkachev",
      "userId": "17392815108100424683"
     },
     "user_tz": -180
    },
    "id": "Bb76WowEI9lK",
    "outputId": "9702c703-8e35-4f01-a050-db3ac57f55ac"
   },
   "outputs": [
    {
     "name": "stdout",
     "output_type": "stream",
     "text": [
      "Computation device: cpu\n",
      "\n"
     ]
    }
   ],
   "source": [
    "device = ('cuda' if torch.cuda.is_available() else 'cpu')\n",
    "print(f\"Computation device: {device}\\n\")"
   ]
  },
  {
   "cell_type": "code",
   "execution_count": 4,
   "metadata": {
    "executionInfo": {
     "elapsed": 251,
     "status": "ok",
     "timestamp": 1673208963262,
     "user": {
      "displayName": "Sergei Tkachev",
      "userId": "17392815108100424683"
     },
     "user_tz": -180
    },
    "id": "ouh1q7_gJDea"
   },
   "outputs": [],
   "source": [
    "import re\n",
    "import string\n",
    "\n",
    "punctuation = set(string.punctuation)\n",
    "stop_words = set(stopwords.words(\"english\"))\n",
    "stemmer = SnowballStemmer(\"english\")\n",
    "lemmatizer = lemmatizer = nltk.WordNetLemmatizer()\n",
    "sub_pattern = r\"[^a-zA-Z.,!?]\"  # паттерн для удаления символов\n",
    "\n",
    "# Удаление стоп-слов\n",
    "def filter_stop_words(words):\n",
    "    return [word for word in words if word not in stop_words]\n",
    "\n",
    "\n",
    "# удаление знаков препинания\n",
    "def filter_punctuation(words):\n",
    "    return [re.sub(f\"[{string.punctuation}]\", \"\", word) for word in words]\n",
    "\n",
    "\n",
    "# стемминг\n",
    "def stemm_text(words):\n",
    "    return [stemmer.stem(word) for word in words]\n",
    "\n",
    "\n",
    "# лематизация\n",
    "def lemm_text(words):\n",
    "    return [lemmatizer.lemmatize(word) for word in words]\n",
    "\n",
    "\n",
    "# Удаление коротких слов\n",
    "def filter_short_words(words):\n",
    "    return list(filter(lambda word: len(word) > 2, words))\n",
    "\n",
    "\n",
    "def preprocess_text(text, type=\"stemmer\"):\n",
    "    text = re.sub(r\"(?P<url>https?://[^\\s]+)\", \"\", text)  # remove URL adresses\n",
    "    text = re.sub(r\"\\@(\\w+)\", \"\", text)  # remove usernames\n",
    "    text = re.sub(r\"\\#(\\w+)\", \"\", text)  # remove hashtags\n",
    "    text = re.sub(r\"\\$(\\w+)\", \"\", text)  # remove cashtags\n",
    "\n",
    "    # удаление специальных символов и приведение к нижнему регистру\n",
    "    text = re.sub(sub_pattern, \" \", text).lower().strip()\n",
    "\n",
    "    # токенизация\n",
    "    text = nltk.word_tokenize(text)\n",
    "    # удаление знаков препинания\n",
    "    text = filter_punctuation(text)\n",
    "    # Удаление стоп-слов\n",
    "    text = filter_stop_words(text)\n",
    "\n",
    "    if type == \"stemmer\":\n",
    "        # стемминг\n",
    "        text = stemm_text(text)\n",
    "    else:\n",
    "        text = lemm_text(text)\n",
    "\n",
    "    text = filter_short_words(text)\n",
    "\n",
    "    return text\n"
   ]
  },
  {
   "cell_type": "code",
   "execution_count": 5,
   "metadata": {
    "executionInfo": {
     "elapsed": 927,
     "status": "ok",
     "timestamp": 1673208965216,
     "user": {
      "displayName": "Sergei Tkachev",
      "userId": "17392815108100424683"
     },
     "user_tz": -180
    },
    "id": "B08na-SQOsIx"
   },
   "outputs": [],
   "source": [
    "data = pd.read_csv(\"../data/nlp/news.csv\")"
   ]
  },
  {
   "cell_type": "code",
   "execution_count": 6,
   "metadata": {
    "colab": {
     "base_uri": "https://localhost:8080/",
     "height": 206
    },
    "executionInfo": {
     "elapsed": 6,
     "status": "ok",
     "timestamp": 1673208966266,
     "user": {
      "displayName": "Sergei Tkachev",
      "userId": "17392815108100424683"
     },
     "user_tz": -180
    },
    "id": "aA-D7C6EPqyr",
    "outputId": "7124dc9a-b98a-438e-fe37-aa26d2e8ac35"
   },
   "outputs": [
    {
     "data": {
      "text/html": [
       "<div>\n",
       "<style scoped>\n",
       "    .dataframe tbody tr th:only-of-type {\n",
       "        vertical-align: middle;\n",
       "    }\n",
       "\n",
       "    .dataframe tbody tr th {\n",
       "        vertical-align: top;\n",
       "    }\n",
       "\n",
       "    .dataframe thead th {\n",
       "        text-align: right;\n",
       "    }\n",
       "</style>\n",
       "<table border=\"1\" class=\"dataframe\">\n",
       "  <thead>\n",
       "    <tr style=\"text-align: right;\">\n",
       "      <th></th>\n",
       "      <th>Class Index</th>\n",
       "      <th>Title</th>\n",
       "      <th>Description</th>\n",
       "    </tr>\n",
       "  </thead>\n",
       "  <tbody>\n",
       "    <tr>\n",
       "      <th>0</th>\n",
       "      <td>2</td>\n",
       "      <td>Iowa Expecting Capital One Invitation (AP)</td>\n",
       "      <td>AP - Here's some advice from the Capital One B...</td>\n",
       "    </tr>\n",
       "    <tr>\n",
       "      <th>1</th>\n",
       "      <td>1</td>\n",
       "      <td>106 mainland enterprises listed outside mainla...</td>\n",
       "      <td>By the end of August 2004, a total of 106 Chin...</td>\n",
       "    </tr>\n",
       "    <tr>\n",
       "      <th>2</th>\n",
       "      <td>4</td>\n",
       "      <td>Internet crackdown leads to over 100 arrests</td>\n",
       "      <td>In what is being called the largest global cra...</td>\n",
       "    </tr>\n",
       "    <tr>\n",
       "      <th>3</th>\n",
       "      <td>2</td>\n",
       "      <td>Williams vs Klitschko: When A Comet Crashes In...</td>\n",
       "      <td>09.12.04 - By Janne Romppainen: Unlike many pe...</td>\n",
       "    </tr>\n",
       "    <tr>\n",
       "      <th>4</th>\n",
       "      <td>4</td>\n",
       "      <td>Dell Gets \\$700M Deal From Royal Philips</td>\n",
       "      <td>Dell Inc. said Thursday that it has won a \\$70...</td>\n",
       "    </tr>\n",
       "  </tbody>\n",
       "</table>\n",
       "</div>"
      ],
      "text/plain": [
       "   Class Index                                              Title  \\\n",
       "0            2         Iowa Expecting Capital One Invitation (AP)   \n",
       "1            1  106 mainland enterprises listed outside mainla...   \n",
       "2            4       Internet crackdown leads to over 100 arrests   \n",
       "3            2  Williams vs Klitschko: When A Comet Crashes In...   \n",
       "4            4           Dell Gets \\$700M Deal From Royal Philips   \n",
       "\n",
       "                                         Description  \n",
       "0  AP - Here's some advice from the Capital One B...  \n",
       "1  By the end of August 2004, a total of 106 Chin...  \n",
       "2  In what is being called the largest global cra...  \n",
       "3  09.12.04 - By Janne Romppainen: Unlike many pe...  \n",
       "4  Dell Inc. said Thursday that it has won a \\$70...  "
      ]
     },
     "execution_count": 6,
     "metadata": {},
     "output_type": "execute_result"
    }
   ],
   "source": [
    "data.head()"
   ]
  },
  {
   "cell_type": "code",
   "execution_count": 7,
   "metadata": {
    "executionInfo": {
     "elapsed": 2227,
     "status": "ok",
     "timestamp": 1673208969952,
     "user": {
      "displayName": "Sergei Tkachev",
      "userId": "17392815108100424683"
     },
     "user_tz": -180
    },
    "id": "amd2Te_UWZ8_"
   },
   "outputs": [],
   "source": [
    "data['Title'] = data['Title'].apply(preprocess_text) # делаем предобработку интересующих нас данных\n",
    "\n",
    "data['Class Index'] = data['Class Index'].astype('category')\n",
    "data['label'] = data['Class Index'].cat.codes\n",
    "\n",
    "n_classes = len(data['Class Index'].cat.categories)"
   ]
  },
  {
   "cell_type": "code",
   "execution_count": 8,
   "metadata": {
    "colab": {
     "base_uri": "https://localhost:8080/",
     "height": 206
    },
    "executionInfo": {
     "elapsed": 7,
     "status": "ok",
     "timestamp": 1673208969953,
     "user": {
      "displayName": "Sergei Tkachev",
      "userId": "17392815108100424683"
     },
     "user_tz": -180
    },
    "id": "JBcmMSWvXAdo",
    "outputId": "7d229cc4-5948-47fe-84e6-3c9678ef4f32"
   },
   "outputs": [
    {
     "data": {
      "text/html": [
       "<div>\n",
       "<style scoped>\n",
       "    .dataframe tbody tr th:only-of-type {\n",
       "        vertical-align: middle;\n",
       "    }\n",
       "\n",
       "    .dataframe tbody tr th {\n",
       "        vertical-align: top;\n",
       "    }\n",
       "\n",
       "    .dataframe thead th {\n",
       "        text-align: right;\n",
       "    }\n",
       "</style>\n",
       "<table border=\"1\" class=\"dataframe\">\n",
       "  <thead>\n",
       "    <tr style=\"text-align: right;\">\n",
       "      <th></th>\n",
       "      <th>Class Index</th>\n",
       "      <th>Title</th>\n",
       "      <th>Description</th>\n",
       "      <th>label</th>\n",
       "    </tr>\n",
       "  </thead>\n",
       "  <tbody>\n",
       "    <tr>\n",
       "      <th>0</th>\n",
       "      <td>2</td>\n",
       "      <td>[iowa, expect, capit, one, invit]</td>\n",
       "      <td>AP - Here's some advice from the Capital One B...</td>\n",
       "      <td>1</td>\n",
       "    </tr>\n",
       "    <tr>\n",
       "      <th>1</th>\n",
       "      <td>1</td>\n",
       "      <td>[mainland, enterpris, list, outsid, mainland, ...</td>\n",
       "      <td>By the end of August 2004, a total of 106 Chin...</td>\n",
       "      <td>0</td>\n",
       "    </tr>\n",
       "    <tr>\n",
       "      <th>2</th>\n",
       "      <td>4</td>\n",
       "      <td>[internet, crackdown, lead, arrest]</td>\n",
       "      <td>In what is being called the largest global cra...</td>\n",
       "      <td>3</td>\n",
       "    </tr>\n",
       "    <tr>\n",
       "      <th>3</th>\n",
       "      <td>2</td>\n",
       "      <td>[william, klitschko, comet, crash, tower]</td>\n",
       "      <td>09.12.04 - By Janne Romppainen: Unlike many pe...</td>\n",
       "      <td>1</td>\n",
       "    </tr>\n",
       "    <tr>\n",
       "      <th>4</th>\n",
       "      <td>4</td>\n",
       "      <td>[dell, get, deal, royal, philip]</td>\n",
       "      <td>Dell Inc. said Thursday that it has won a \\$70...</td>\n",
       "      <td>3</td>\n",
       "    </tr>\n",
       "  </tbody>\n",
       "</table>\n",
       "</div>"
      ],
      "text/plain": [
       "  Class Index                                              Title  \\\n",
       "0           2                  [iowa, expect, capit, one, invit]   \n",
       "1           1  [mainland, enterpris, list, outsid, mainland, ...   \n",
       "2           4                [internet, crackdown, lead, arrest]   \n",
       "3           2          [william, klitschko, comet, crash, tower]   \n",
       "4           4                   [dell, get, deal, royal, philip]   \n",
       "\n",
       "                                         Description  label  \n",
       "0  AP - Here's some advice from the Capital One B...      1  \n",
       "1  By the end of August 2004, a total of 106 Chin...      0  \n",
       "2  In what is being called the largest global cra...      3  \n",
       "3  09.12.04 - By Janne Romppainen: Unlike many pe...      1  \n",
       "4  Dell Inc. said Thursday that it has won a \\$70...      3  "
      ]
     },
     "execution_count": 8,
     "metadata": {},
     "output_type": "execute_result"
    }
   ],
   "source": [
    "data.head()"
   ]
  },
  {
   "cell_type": "code",
   "execution_count": 9,
   "metadata": {
    "executionInfo": {
     "elapsed": 1,
     "status": "ok",
     "timestamp": 1673208970885,
     "user": {
      "displayName": "Sergei Tkachev",
      "userId": "17392815108100424683"
     },
     "user_tz": -180
    },
    "id": "BpqmzIVxQ23m"
   },
   "outputs": [],
   "source": [
    "# Разбиение на train и test выборки\n",
    "train_data, test_data = train_test_split(data, test_size=0.2, stratify=data['Class Index'])"
   ]
  },
  {
   "cell_type": "code",
   "execution_count": 10,
   "metadata": {
    "colab": {
     "base_uri": "https://localhost:8080/",
     "height": 282
    },
    "executionInfo": {
     "elapsed": 395,
     "status": "ok",
     "timestamp": 1673208971796,
     "user": {
      "displayName": "Sergei Tkachev",
      "userId": "17392815108100424683"
     },
     "user_tz": -180
    },
    "id": "WmCG5BNggCLP",
    "outputId": "2dca88b5-bc0b-4c3e-b25a-78bb1a303e61"
   },
   "outputs": [
    {
     "data": {
      "text/plain": [
       "<BarContainer object of 4 artists>"
      ]
     },
     "execution_count": 10,
     "metadata": {},
     "output_type": "execute_result"
    },
    {
     "data": {
      "image/png": "[encoded data removed]",
      "text/plain": [
       "<Figure size 640x480 with 1 Axes>"
      ]
     },
     "metadata": {},
     "output_type": "display_data"
    }
   ],
   "source": [
    "plt.bar(range(4), train_data['label'].value_counts()) # распределение классов по обучающей выборке"
   ]
  },
  {
   "cell_type": "code",
   "execution_count": 11,
   "metadata": {
    "colab": {
     "base_uri": "https://localhost:8080/",
     "height": 282
    },
    "executionInfo": {
     "elapsed": 293,
     "status": "ok",
     "timestamp": 1673208972478,
     "user": {
      "displayName": "Sergei Tkachev",
      "userId": "17392815108100424683"
     },
     "user_tz": -180
    },
    "id": "iC1pucsxgP9q",
    "outputId": "9e0f715f-4b8b-4efa-dcd6-60980afdc2c8"
   },
   "outputs": [
    {
     "data": {
      "text/plain": [
       "<BarContainer object of 4 artists>"
      ]
     },
     "execution_count": 11,
     "metadata": {},
     "output_type": "execute_result"
    },
    {
     "data": {
      "image/png": "[encoded data removed]",
      "text/plain": [
       "<Figure size 640x480 with 1 Axes>"
      ]
     },
     "metadata": {},
     "output_type": "display_data"
    }
   ],
   "source": [
    "plt.bar(range(4), test_data['label'].value_counts()) # распределение классов по тестовой выборке"
   ]
  },
  {
   "cell_type": "markdown",
   "metadata": {
    "id": "FvIefyyMhhZI"
   },
   "source": [
    "Распределения аналогичны => выборки сбалансированы"
   ]
  },
  {
   "cell_type": "code",
   "execution_count": 12,
   "metadata": {
    "executionInfo": {
     "elapsed": 1,
     "status": "ok",
     "timestamp": 1673208974053,
     "user": {
      "displayName": "Sergei Tkachev",
      "userId": "17392815108100424683"
     },
     "user_tz": -180
    },
    "id": "83CiPODSRGyF"
   },
   "outputs": [],
   "source": [
    "class Vocab:\n",
    "    def __init__(self, data):\n",
    "        self.idx_to_token = [\"<UNK>\"]\n",
    "        self.token_to_idx = {\"<UNK>\": 0}\n",
    "        self.max_words_len = 0\n",
    "\n",
    "        self.add_words(data)\n",
    "\n",
    "    def add_words(self, data):\n",
    "        for sent in data:\n",
    "            for word in sent:\n",
    "                if not word in self.token_to_idx:\n",
    "                    self.idx_to_token.append(word)\n",
    "                    self.token_to_idx[word] = len(self.token_to_idx)\n",
    "\n",
    "            l = len(sent)\n",
    "            if l > self.max_words_len:\n",
    "                self.max_words_len = l\n",
    "\n",
    "    def __len__(self):\n",
    "        return len(self.idx_to_token)\n"
   ]
  },
  {
   "cell_type": "code",
   "execution_count": 13,
   "metadata": {
    "colab": {
     "base_uri": "https://localhost:8080/"
    },
    "executionInfo": {
     "elapsed": 3,
     "status": "ok",
     "timestamp": 1673208974304,
     "user": {
      "displayName": "Sergei Tkachev",
      "userId": "17392815108100424683"
     },
     "user_tz": -180
    },
    "id": "uXVWtSOdmf-8",
    "outputId": "a3bb8156-e16e-4ef8-9fb3-1229abe0cbb9"
   },
   "outputs": [
    {
     "data": {
      "text/plain": [
       "12"
      ]
     },
     "execution_count": 13,
     "metadata": {},
     "output_type": "execute_result"
    }
   ],
   "source": [
    "vocab = Vocab(train_data['Title']) # создаем словарь на основе обучающей выборки\n",
    "vocab.max_words_len"
   ]
  },
  {
   "cell_type": "code",
   "execution_count": 14,
   "metadata": {
    "executionInfo": {
     "elapsed": 2,
     "status": "ok",
     "timestamp": 1673208975116,
     "user": {
      "displayName": "Sergei Tkachev",
      "userId": "17392815108100424683"
     },
     "user_tz": -180
    },
    "id": "Bh7FkRiKR_97"
   },
   "outputs": [],
   "source": [
    "class NewsDataset(Dataset):\n",
    "    def __init__(self, X, y, vocab):\n",
    "        self.X = X\n",
    "        self.y = y\n",
    "        self.vocab = vocab\n",
    "\n",
    "    def encode(self, data):\n",
    "        res = torch.zeros(vocab.max_words_len)\n",
    "        for i in range(min(vocab.max_words_len, len(data))):\n",
    "            res[i] = self.vocab.token_to_idx.get(data[i], 0)\n",
    "        return res.to(dtype=torch.int64)\n",
    "\n",
    "    def decode(self, vector):\n",
    "        return [self.vocab.idx_to_token[idx] for idx in vector]\n",
    "\n",
    "    def __len__(self):\n",
    "        return len(self.X)\n",
    "\n",
    "    def __getitem__(self, idx):\n",
    "        return self.encode(self.X[idx]), self.y[idx]\n"
   ]
  },
  {
   "cell_type": "code",
   "execution_count": 15,
   "metadata": {
    "executionInfo": {
     "elapsed": 2,
     "status": "ok",
     "timestamp": 1673208975771,
     "user": {
      "displayName": "Sergei Tkachev",
      "userId": "17392815108100424683"
     },
     "user_tz": -180
    },
    "id": "iutMn483ZqfV"
   },
   "outputs": [],
   "source": [
    "train_dataset = NewsDataset(train_data['Title'].to_numpy(), train_data['label'].to_numpy(), vocab)\n",
    "test_dataset = NewsDataset(test_data['Title'].to_numpy(), test_data['label'].to_numpy(), vocab)"
   ]
  },
  {
   "cell_type": "code",
   "execution_count": 16,
   "metadata": {
    "executionInfo": {
     "elapsed": 2,
     "status": "ok",
     "timestamp": 1673208976190,
     "user": {
      "displayName": "Sergei Tkachev",
      "userId": "17392815108100424683"
     },
     "user_tz": -180
    },
    "id": "98H3ubCiV_d7"
   },
   "outputs": [],
   "source": [
    "batch_size = 20\n",
    "\n",
    "train_dataLoader = torch.utils.data.DataLoader(train_dataset, batch_size=batch_size, shuffle=True)\n",
    "test_dataLoader = torch.utils.data.DataLoader(test_dataset,batch_size=500)"
   ]
  },
  {
   "cell_type": "code",
   "execution_count": 17,
   "metadata": {
    "executionInfo": {
     "elapsed": 1,
     "status": "ok",
     "timestamp": 1673208976572,
     "user": {
      "displayName": "Sergei Tkachev",
      "userId": "17392815108100424683"
     },
     "user_tz": -180
    },
    "id": "Qs3bylAdV4U2"
   },
   "outputs": [],
   "source": [
    "class NewsClassifier(nn.Module):\n",
    "    def __init__(self, vocab, n_classes, embedding_dim = 64):\n",
    "        super(NewsClassifier, self).__init__()\n",
    "        self.embedding_dim = embedding_dim\n",
    "\n",
    "        self.embedding = nn.Embedding(num_embeddings=len(vocab), embedding_dim=embedding_dim)\n",
    "        self.features = nn.Sequential(\n",
    "            nn.Conv1d(in_channels=embedding_dim, out_channels=512, kernel_size=2),\n",
    "            nn.BatchNorm1d(num_features=512),\n",
    "            nn.ReLU(),\n",
    "            nn.Dropout(),\n",
    "            nn.MaxPool1d(kernel_size=2),\n",
    "\n",
    "            nn.Conv1d(in_channels=512, out_channels=128, kernel_size=2),\n",
    "            nn.BatchNorm1d(num_features=128),\n",
    "            nn.ReLU(),\n",
    "            nn.Dropout(),\n",
    "            nn.MaxPool1d(kernel_size=2),\n",
    "\n",
    "            nn.Conv1d(in_channels=128, out_channels=64, kernel_size=2),\n",
    "            nn.BatchNorm1d(num_features=64),\n",
    "            nn.ReLU(),\n",
    "        )\n",
    "        \n",
    "        self.fc = nn.Sequential(\n",
    "            nn.Linear(64, 128),\n",
    "            nn.BatchNorm1d(128),\n",
    "            nn.ReLU(),\n",
    "            nn.Dropout(),\n",
    "            nn.Linear(128, 32),\n",
    "            nn.ReLU(),\n",
    "            nn.Linear(32, n_classes),\n",
    "        )\n",
    "\n",
    "    def forward(self, x):\n",
    "        x = self.embedding(x)\n",
    "        x = x.reshape(-1, x.size(2), x.size(1))\n",
    "        x = self.features(x)\n",
    "        x = torch.flatten(x, 1)\n",
    "        x = self.fc(x)\n",
    "        return x"
   ]
  },
  {
   "cell_type": "code",
   "execution_count": 18,
   "metadata": {
    "executionInfo": {
     "elapsed": 2,
     "status": "ok",
     "timestamp": 1673208976904,
     "user": {
      "displayName": "Sergei Tkachev",
      "userId": "17392815108100424683"
     },
     "user_tz": -180
    },
    "id": "bfn9gYPOYPUQ"
   },
   "outputs": [],
   "source": [
    "model = NewsClassifier(vocab, n_classes).to(device)\n",
    "torch.manual_seed(42)\n",
    "loss_f = nn.CrossEntropyLoss()\n",
    "optimizer = torch.optim.Adam(model.parameters(), lr=0.001, weight_decay=1e-5)"
   ]
  },
  {
   "cell_type": "code",
   "execution_count": 19,
   "metadata": {
    "executionInfo": {
     "elapsed": 2,
     "status": "ok",
     "timestamp": 1673208977691,
     "user": {
      "displayName": "Sergei Tkachev",
      "userId": "17392815108100424683"
     },
     "user_tz": -180
    },
    "id": "fNCL5fklYoSe"
   },
   "outputs": [],
   "source": [
    "def train_model(model, train_dataLoader, input_size, loss_f, optimizer, n_epochs, log_interval, batch_size, device='cpu'):\n",
    "    model.train()\n",
    "    \n",
    "    losses = []\n",
    "\n",
    "    for epoch in range(n_epochs):\n",
    "        loss_total = 0\n",
    "        for i,(X, y) in enumerate(train_dataLoader):\n",
    "            X = X.to(device)\n",
    "            y = y.to(device, dtype=torch.int64)\n",
    "            \n",
    "            optimizer.zero_grad()\n",
    "\n",
    "            y_pred = model.forward(X)\n",
    "\n",
    "            loss = loss_f(y_pred,y)\n",
    "            loss.backward()\n",
    "            optimizer.step()\n",
    "            loss_total += loss.item()\n",
    "\n",
    "            if (i + 1) % log_interval == 0:\n",
    "                print('Epoch : %d/%d, Iter : %d/%d,  Loss: %.4f' \n",
    "                    %(epoch+1, n_epochs, i+1, len(train_dataLoader.dataset)//batch_size, loss.item()))\n",
    "\n",
    "        losses.append(loss_total / len(train_dataLoader))\n",
    "\n",
    "    return losses"
   ]
  },
  {
   "cell_type": "code",
   "execution_count": 20,
   "metadata": {
    "colab": {
     "base_uri": "https://localhost:8080/"
    },
    "executionInfo": {
     "elapsed": 192770,
     "status": "ok",
     "timestamp": 1673209171214,
     "user": {
      "displayName": "Sergei Tkachev",
      "userId": "17392815108100424683"
     },
     "user_tz": -180
    },
    "id": "Xj-Q8J1zYVBd",
    "outputId": "e0c4effa-4586-4297-eb2c-dca8ddc22397"
   },
   "outputs": [
    {
     "name": "stdout",
     "output_type": "stream",
     "text": [
      "Epoch : 1/15, Iter : 300/400,  Loss: 1.3812\n",
      "Epoch : 2/15, Iter : 300/400,  Loss: 1.3595\n",
      "Epoch : 3/15, Iter : 300/400,  Loss: 1.4535\n",
      "Epoch : 4/15, Iter : 300/400,  Loss: 0.8763\n",
      "Epoch : 5/15, Iter : 300/400,  Loss: 1.0810\n",
      "Epoch : 6/15, Iter : 300/400,  Loss: 0.8257\n",
      "Epoch : 7/15, Iter : 300/400,  Loss: 0.7505\n",
      "Epoch : 8/15, Iter : 300/400,  Loss: 0.9083\n",
      "Epoch : 9/15, Iter : 300/400,  Loss: 0.9791\n",
      "Epoch : 10/15, Iter : 300/400,  Loss: 0.3935\n",
      "Epoch : 11/15, Iter : 300/400,  Loss: 0.3533\n",
      "Epoch : 12/15, Iter : 300/400,  Loss: 0.7295\n",
      "Epoch : 13/15, Iter : 300/400,  Loss: 0.3820\n",
      "Epoch : 14/15, Iter : 300/400,  Loss: 0.3016\n",
      "Epoch : 15/15, Iter : 300/400,  Loss: 0.2143\n"
     ]
    }
   ],
   "source": [
    "losses = train_model(model, train_dataLoader, -1, loss_f, optimizer, 15, 300, batch_size, device)"
   ]
  },
  {
   "cell_type": "code",
   "execution_count": 21,
   "metadata": {
    "colab": {
     "base_uri": "https://localhost:8080/",
     "height": 282
    },
    "executionInfo": {
     "elapsed": 243,
     "status": "ok",
     "timestamp": 1673209186063,
     "user": {
      "displayName": "Sergei Tkachev",
      "userId": "17392815108100424683"
     },
     "user_tz": -180
    },
    "id": "lg9V4lJOYbgN",
    "outputId": "38bf1b88-bed0-49a7-97c8-1e26d55514c0"
   },
   "outputs": [
    {
     "data": {
      "text/plain": [
       "[<matplotlib.lines.Line2D at 0x14cb08910>]"
      ]
     },
     "execution_count": 21,
     "metadata": {},
     "output_type": "execute_result"
    },
    {
     "data": {
      "image/png": "[encoded data removed]",
      "text/plain": [
       "<Figure size 640x480 with 1 Axes>"
      ]
     },
     "metadata": {},
     "output_type": "display_data"
    }
   ],
   "source": [
    "plt.plot(losses)"
   ]
  },
  {
   "cell_type": "code",
   "execution_count": 22,
   "metadata": {
    "executionInfo": {
     "elapsed": 2,
     "status": "ok",
     "timestamp": 1673209187336,
     "user": {
      "displayName": "Sergei Tkachev",
      "userId": "17392815108100424683"
     },
     "user_tz": -180
    },
    "id": "_r7UFT6Sd_0F"
   },
   "outputs": [],
   "source": [
    "def show_err_matrix(class_names, y, y_pred):\n",
    "    fig, ax = plt.subplots(figsize=(10, 8))\n",
    "    ticks = np.arange(len(class_names))\n",
    "    plt.xticks(ticks, class_names)\n",
    "    plt.yticks(ticks, class_names)\n",
    "\n",
    "    confusion_matrix = metrics.confusion_matrix(y, y_pred)\n",
    "    sns.heatmap(pd.DataFrame(confusion_matrix), annot=True)\n",
    "\n",
    "\n",
    "def validate(model, test_dataLoader, classes):\n",
    "    model.eval()\n",
    "\n",
    "    y_pred_list = []\n",
    "    y_list = []\n",
    "\n",
    "    for _, (X, y) in enumerate(test_dataLoader):\n",
    "        X = X.to(device)\n",
    "        y = y.to(device)\n",
    "\n",
    "        y_pred = model.forward(X).argmax(dim=1).detach().cpu().numpy()\n",
    "        y_pred_list.append(y_pred)\n",
    "        y = y.detach().cpu().numpy()\n",
    "        y_list.append(y)\n",
    "\n",
    "    y_pred = np.concatenate(y_pred_list)\n",
    "    y = np.concatenate(y_list)\n",
    "\n",
    "    accuracy = metrics.accuracy_score(y, y_pred)\n",
    "    print(f\"Test Accuracy: {accuracy}\")\n",
    "\n",
    "    show_err_matrix(classes, y, y_pred)\n",
    "    print(metrics.classification_report(y, y_pred))\n"
   ]
  },
  {
   "cell_type": "code",
   "execution_count": 23,
   "metadata": {
    "colab": {
     "base_uri": "https://localhost:8080/",
     "height": 691
    },
    "executionInfo": {
     "elapsed": 24417,
     "status": "ok",
     "timestamp": 1673209212743,
     "user": {
      "displayName": "Sergei Tkachev",
      "userId": "17392815108100424683"
     },
     "user_tz": -180
    },
    "id": "qkXKkxG7eM_h",
    "outputId": "79469a47-9afb-4cb3-8e5b-59903ce2815d"
   },
   "outputs": [
    {
     "name": "stdout",
     "output_type": "stream",
     "text": [
      "Test Accuracy: 0.7075\n",
      "              precision    recall  f1-score   support\n",
      "\n",
      "           0       0.81      0.70      0.75       515\n",
      "           1       0.76      0.77      0.76       492\n",
      "           2       0.66      0.62      0.64       495\n",
      "           3       0.62      0.74      0.68       498\n",
      "\n",
      "    accuracy                           0.71      2000\n",
      "   macro avg       0.71      0.71      0.71      2000\n",
      "weighted avg       0.71      0.71      0.71      2000\n",
      "\n"
     ]
    },
    {
     "data": {
      "image/png": "[encoded data removed]",
      "text/plain": [
       "<Figure size 1000x800 with 2 Axes>"
      ]
     },
     "metadata": {},
     "output_type": "display_data"
    }
   ],
   "source": [
    "validate(model, test_dataLoader, data['Class Index'].cat.codes)"
   ]
  }
 ],
 "metadata": {
  "colab": {
   "authorship_tag": "ABX9TyPtJ/DVLi1nlPceLzb5d/zu",
   "provenance": []
  },
  "kernelspec": {
   "display_name": "Python 3 (ipykernel)",
   "language": "python",
   "name": "python3"
  },
  "language_info": {
   "codemirror_mode": {
    "name": "ipython",
    "version": 3
   },
   "file_extension": ".py",
   "mimetype": "text/x-python",
   "name": "python",
   "nbconvert_exporter": "python",
   "pygments_lexer": "ipython3",
   "version": "3.8.13"
  }
 },
 "nbformat": 4,
 "nbformat_minor": 1
}
